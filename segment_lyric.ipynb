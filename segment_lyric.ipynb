{
  "nbformat": 4,
  "nbformat_minor": 0,
  "metadata": {
    "colab": {
      "provenance": [],
      "gpuType": "T4"
    },
    "kernelspec": {
      "name": "python3",
      "display_name": "Python 3"
    },
    "language_info": {
      "name": "python"
    },
    "accelerator": "GPU"
  },
  "cells": [
    {
      "cell_type": "code",
      "source": [
        "!pip install SpeechRecognition"
      ],
      "metadata": {
        "id": "-g_U83cCx0zV"
      },
      "execution_count": null,
      "outputs": []
    },
    {
      "cell_type": "code",
      "source": [
        "!pip install pocketsphinx"
      ],
      "metadata": {
        "id": "LESvtTmGyD91"
      },
      "execution_count": null,
      "outputs": []
    },
    {
      "cell_type": "code",
      "source": [
        "import datetime\n",
        "\n",
        "def get_word_duration(word, sample_rate):\n",
        "    return len(word) / sample_rate\n",
        "\n",
        "def format_time(seconds):\n",
        "    return str(datetime.timedelta(seconds=seconds)).zfill(8)"
      ],
      "metadata": {
        "id": "ykEkd1zza2BC"
      },
      "execution_count": null,
      "outputs": []
    },
    {
      "cell_type": "code",
      "execution_count": null,
      "metadata": {
        "id": "ToAax1SWvjcl"
      },
      "outputs": [],
      "source": [
        "import speech_recognition as sr\n",
        "from scipy.io import wavfile\n",
        "\n",
        "# Load audio file\n",
        "r = sr.Recognizer()\n",
        "with sr.AudioFile(\"/content/drive/MyDrive/Gunna-fukumean.wav\") as source:\n",
        "    audio_data = r.record(source)\n",
        "\n",
        "# Recognize speech from audio file\n",
        "text = r.recognize_sphinx(audio_data)\n",
        "\n",
        "# Split text into words\n",
        "words = text.split()\n"
      ]
    },
    {
      "cell_type": "code",
      "source": [
        "# Get sample rate of audio\n",
        "sample_rate, audio = wavfile.read(\"/content/drive/MyDrive/Gunna-fukumean.wav\")\n",
        "\n",
        "# Get duration of each word\n",
        "durations = [get_word_duration(word, sample_rate) for word in words]\n",
        "\n",
        "# Get total duration of audio\n",
        "total_duration = len(audio) / sample_rate\n",
        "\n",
        "# Write durations and words to a text file with two columns\n",
        "with open(\"output.txt\", \"w\") as f:\n",
        "    start_time = 0.0\n",
        "    for i in range(len(words)):\n",
        "        end_time = start_time + durations[i]\n",
        "        f.write(f\"{format_time(start_time)}-{format_time(end_time)} {words[i]}\\n\")\n",
        "        start_time = end_time\n",
        "\n",
        "    # Write total duration of audio at the end\n",
        "    f.write(f\"Total duration: {format_time(total_duration)}\")"
      ],
      "metadata": {
        "id": "yHWsnFzadLC8"
      },
      "execution_count": null,
      "outputs": []
    },
    {
      "cell_type": "code",
      "source": [
        "!pip install google-cloud-speech==2.5.0"
      ],
      "metadata": {
        "id": "5HwQVIPNpMh4"
      },
      "execution_count": null,
      "outputs": []
    },
    {
      "cell_type": "code",
      "source": [
        "!pip uninstall google-cloud google-cloud-speech google-cloud-storage google-auth google-auth-oauthlib google-auth-httplib2\n",
        "!pip install google-cloud google-cloud-speech google-cloud-storage google-auth google-auth-oauthlib google-auth-httplib2"
      ],
      "metadata": {
        "id": "TJ5-JuaaqWvl"
      },
      "execution_count": null,
      "outputs": []
    },
    {
      "cell_type": "code",
      "source": [
        "!pip install proto-plus==1.19.0"
      ],
      "metadata": {
        "id": "6xfKRA98qwYt"
      },
      "execution_count": null,
      "outputs": []
    },
    {
      "cell_type": "code",
      "source": [
        "!pip uninstall google-cloud google-cloud-speech google-cloud-storage google-auth google-auth-oauthlib google-auth-httplib2\n",
        "!pip install google-cloud google-cloud-speech google-cloud-storage google-auth google-auth-oauthlib google-auth-httplib2"
      ],
      "metadata": {
        "id": "QNihP7h7q0Vq"
      },
      "execution_count": null,
      "outputs": []
    },
    {
      "cell_type": "code",
      "source": [
        "from google.cloud import speech_v1p1beta1 as speech\n",
        "# Configure Google Cloud Speech client\n",
        "client = speech.SpeechClient()\n",
        "config = speech.RecognitionConfig(\n",
        "    encoding=speech.RecognitionConfig.AudioEncoding.LINEAR16,\n",
        "    sample_rate_hertz=16000,  # Sample rate of your audio file\n",
        "    language_code=\"vi-VN\",  # Language code\n",
        ")\n",
        "audio = speech.RecognitionAudio(content=audio_data.frame_data)\n",
        "\n",
        "# Recognize speech from audio file\n",
        "response = client.recognize(request={\"config\": config, \"audio\": audio})\n",
        "\n",
        "# Get recognized text\n",
        "text = \"\"\n",
        "for result in response.results:\n",
        "    text += result.alternatives[0].transcript\n",
        "\n",
        "# Split text into words\n",
        "words = text.split()\n",
        "\n",
        "# Get sample rate of audio\n",
        "sample_rate, _ = wavfile.read(\"/content/drive/MyDrive/Gunna-fukumean.wav\")\n",
        "\n",
        "# Get duration of each word\n",
        "durations = [get_word_duration(word, sample_rate) for word in words]\n",
        "\n",
        "# Get total duration of audio\n",
        "total_duration = len(audio_data.frame_data) / sample_rate\n",
        "\n",
        "# Write durations and words to a text file with two columns\n",
        "with open(\"output.txt\", \"w\") as f:\n",
        "    start_time = 0.0\n",
        "    for i in range(len(words)):\n",
        "        end_time = start_time + durations[i]\n",
        "        f.write(f\"{format_time(start_time)}-{format_time(end_time)} {words[i]}\\n\")\n",
        "        start_time = end_time\n",
        "\n",
        "    # Write total duration of audio at the end\n",
        "    f.write(f\"Total duration: {format_time(total_duration)}\")"
      ],
      "metadata": {
        "id": "pHBmcs2fiXXe"
      },
      "execution_count": null,
      "outputs": []
    },
    {
      "cell_type": "code",
      "source": [],
      "metadata": {
        "id": "mEtrxkJ9pGJH"
      },
      "execution_count": null,
      "outputs": []
    }
  ]
}